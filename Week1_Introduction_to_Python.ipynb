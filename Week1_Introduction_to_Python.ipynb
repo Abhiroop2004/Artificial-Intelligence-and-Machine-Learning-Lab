{
  "nbformat": 4,
  "nbformat_minor": 0,
  "metadata": {
    "colab": {
      "provenance": []
    },
    "kernelspec": {
      "name": "python3",
      "display_name": "Python 3"
    },
    "language_info": {
      "name": "python"
    }
  },
  "cells": [
    {
      "cell_type": "markdown",
      "source": [
        "##Assignment 1: Unique Password Generator"
      ],
      "metadata": {
        "id": "qf65YYPxeAeT"
      }
    },
    {
      "cell_type": "markdown",
      "source": [
        "Develop a program that generates a list of unique passwords based on user-defined criteria (e.g., length, character sets).\n",
        "\n",
        "Instructions:\n",
        "1. Allow the user to specify the length and character set for the passwords.\n",
        "2. Generate a list of unique passwords based on the criteria.\n",
        "3. Ensure each password is unique and meets the specified requirements.\n",
        "\n",
        "\n",
        "\n"
      ],
      "metadata": {
        "id": "8XsEnt9F0J9R"
      }
    },
    {
      "cell_type": "code",
      "execution_count": 64,
      "metadata": {
        "colab": {
          "base_uri": "https://localhost:8080/"
        },
        "id": "Zwhys0had94B",
        "outputId": "00b8fb2c-5422-4baf-9faf-b32a9dcc4165"
      },
      "outputs": [
        {
          "output_type": "stream",
          "name": "stdout",
          "text": [
            "---Unique Password Generator---\n",
            "Which type of characters do you want to use? Separate by commas\n",
            "1. Numbers \n",
            "2. Lowercase Alphabets \n",
            "3. Uppercase Alphabets \n",
            "4. Special Characters\n",
            "1,2\n",
            "Enter length of password:\n",
            "6\n",
            "How many passwords do you want?\n",
            "5\n",
            "List of Passwords:\n",
            "60tzjq\n",
            "1ukljm\n",
            "sx2j0x\n",
            "rhtxn2\n",
            "jdx3d5\n"
          ]
        }
      ],
      "source": [
        "import secrets\n",
        "character_set=[[str(i) for i in range(10)], [chr(i) for i in range(97,123)], [chr(i) for i in range(65,91)], [chr(i) for i in range(33,48)]]\n",
        "print(\"---Unique Password Generator---\")\n",
        "print(\"Which type of characters do you want to use? Separate by commas\")\n",
        "print(\"1. Numbers \\n2. Lowercase Alphabets \\n3. Uppercase Alphabets \\n4. Special Characters\")\n",
        "choice=input().split(\",\")\n",
        "print(\"Enter length of password:\")\n",
        "length=int(input())\n",
        "print(\"How many passwords do you want?\")\n",
        "n=int(input())\n",
        "final_set=sum([character_set[int(i)-1] for i in choice], [])\n",
        "print(\"List of Passwords:\")\n",
        "passwords=[]\n",
        "i=0\n",
        "while(i!=n):\n",
        "  password=''.join(secrets.choice(final_set) for i in range(length))\n",
        "  if password not in passwords:\n",
        "    passwords.append(password)\n",
        "    print(password)\n",
        "    i+=1"
      ]
    },
    {
      "cell_type": "markdown",
      "source": [
        "##Assignment 2: Sentence Checking"
      ],
      "metadata": {
        "id": "6p7p0I-Qz_Y0"
      }
    },
    {
      "cell_type": "markdown",
      "source": [
        "Write a program that checks whether the particular sentence is correct or not based on a set of rules Rules:\n",
        "1. A sentence must start with a capital letter.\n",
        "2. A sentence must end with a proper punctuation mark (period, question mark, or exclamation mark).\n",
        "3. The sentence should not contain consecutive spaces.\n",
        "4. The sentence should not contain any digits.\n",
        "5. Each word in the sentence should be separated by a single space.\n",
        "\n",
        "Sample Input and Output:\n",
        "1. Input: \"This is a valid sentence.\" Output \"The sentence is correct.\"\n",
        "2. Input: \"this is an invalid sentence.\" Output: \"The sentence is incorrect: The sentence must start with a capital letter.\"\n",
        "3. Input: \"This is an invalid sentence\" Output: The sentence is incorrect: The sentence must end with a proper punctuation mark.\"\n",
        "4. Input: \"This is an invalid sentence.\" Output: The sentence is incorrect: The sentence contains consecutive spaces.\"\n",
        "5. Input: \"This is an invalid sentence with digits 123.\" Output \"The sentence is incorrect: The sentence contains digits.\""
      ],
      "metadata": {
        "id": "QPkI_yqf07K1"
      }
    },
    {
      "cell_type": "code",
      "source": [
        "import string as st\n",
        "print(\"---Sentence Checker---\")\n",
        "string=input(\"Enter the Sentence to Check: \")\n",
        "flag=0\n",
        "if not string[0].isupper() and string[0].isalpha(): flag=1\n",
        "elif string[-1] not in st.punctuation: flag=2\n",
        "elif '  ' in string: flag=3\n",
        "elif any(char.isdigit() for char in string): flag=4\n",
        "if flag==0:\n",
        "  print(\"The sentence is correct.\")\n",
        "else:\n",
        "  print(\"The sentence is incorrect:\",end=\" \")\n",
        "  if (flag==1): print(\"The sentence must start with a capital letter\")\n",
        "  elif (flag==2): print(\"The sentence must end with a proper punctuation mark\")\n",
        "  elif (flag==3): print(\"The sentence contains consecutive spaces\")\n",
        "  elif (flag==4): print(\"The sentence contains digits\")"
      ],
      "metadata": {
        "colab": {
          "base_uri": "https://localhost:8080/"
        },
        "id": "0FZA5BTGz-sH",
        "outputId": "6455bb56-373b-491f-ff3f-caf5611ba4df"
      },
      "execution_count": 55,
      "outputs": [
        {
          "output_type": "stream",
          "name": "stdout",
          "text": [
            "---Sentence Checker---\n",
            "Enter the Sentence to Check: Sky is cloudy.\n",
            "The sentence is correct.\n"
          ]
        }
      ]
    }
  ]
}