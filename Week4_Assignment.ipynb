{
  "nbformat": 4,
  "nbformat_minor": 0,
  "metadata": {
    "colab": {
      "provenance": []
    },
    "kernelspec": {
      "name": "python3",
      "display_name": "Python 3"
    },
    "language_info": {
      "name": "python"
    }
  },
  "cells": [
    {
      "cell_type": "markdown",
      "source": [
        "Try to find the Breadth First Search sequence taking Start node “B” and ending node “M”"
      ],
      "metadata": {
        "id": "nUgfvZry_31D"
      }
    },
    {
      "cell_type": "code",
      "source": [
        "def bfs(source: int, solution: int):\n",
        "    global front, rear\n",
        "    for i in range(v):\n",
        "        if adj[source][i] == 1 and visited[i] == 0:\n",
        "            print(l[i], end=\" \")\n",
        "            if i == solution: return True\n",
        "            queue.append(i)\n",
        "            visited[i] = 1\n",
        "            rear += 1\n",
        "\n",
        "    if front <= rear:\n",
        "        nt = queue[front]\n",
        "        front += 1\n",
        "        if bfs(nt, solution): return True\n",
        "\n",
        "v = int(input(\"Enter number of vertices: \"))\n",
        "adj = [[0 for _ in range(v)] for _ in range(v)]\n",
        "l = ['B', 'E', 'X', 'K', 'P', 'G', 'A', 'R', 'D', 'T', 'H', 'M']\n",
        "\n",
        "edges = v - 1 #for tree\n",
        "print(\"Enter the edges in pre-defined letters:\")\n",
        "for _ in range(edges):\n",
        "    u, w = map(str, input().split(' '))\n",
        "    u, w= l.index(u), l.index(w)\n",
        "    adj[u][w] = adj[w][u] = 1\n",
        "\n",
        "visited = [0 for _ in range(v)]\n",
        "queue = []\n",
        "front, rear = 0, -1\n",
        "start = l.index(input(\"Enter start node (index): \"))\n",
        "sol = l.index(input(\"Enter solution node (index): \"))\n",
        "visited[start] = 1\n",
        "queue.append(start)\n",
        "rear += 1\n",
        "\n",
        "print(\"BFS sequence is: \")\n",
        "print(l[start], end=\" \")\n",
        "if not bfs(start, sol): print(\"\\nSolution not found.\")\n"
      ],
      "metadata": {
        "colab": {
          "base_uri": "https://localhost:8080/"
        },
        "id": "PR1MauJz3KUO",
        "outputId": "9eb138aa-77be-47f8-f555-17de7844e61f"
      },
      "execution_count": null,
      "outputs": [
        {
          "output_type": "stream",
          "name": "stdout",
          "text": [
            "Enter number of vertices: 12\n",
            "Enter the edges in pre-defined letters:\n",
            "B E\n",
            "B X\n",
            "B K\n",
            "E P\n",
            "E G\n",
            "P D\n",
            "P T\n",
            "K A\n",
            "K R\n",
            "A H\n",
            "A M\n",
            "Enter start node (index): B\n",
            "Enter solution node (index): M\n",
            "BFS sequence is: \n",
            "B E X K P G A R D T H M "
          ]
        }
      ]
    },
    {
      "cell_type": "markdown",
      "source": [
        "Write a python program to DFS sequence starting from the path “1” and “7”"
      ],
      "metadata": {
        "id": "2MnSTFf2_755"
      }
    },
    {
      "cell_type": "code",
      "source": [
        "def dfs(node: int, solution: int):\n",
        "    print(node+1, end=\" \")\n",
        "    if node == solution:  return True\n",
        "    visited[node] = 1\n",
        "    for i in range(v):\n",
        "        if adj[node][i] == 1 and visited[i] == 0:\n",
        "            if dfs(i, solution):  return True\n",
        "    return False\n",
        "\n",
        "v = int(input(\"Enter the number of vertices: \"))\n",
        "adj = [[0 for _ in range(v)] for _ in range(v)]\n",
        "\n",
        "edges = v - 1\n",
        "print(\"Enter the edges\")\n",
        "for _ in range(edges):\n",
        "    u, w = map(int, input().split())\n",
        "    u, w = u - 1, w - 1\n",
        "    adj[u][w] = adj[w][u] = 1\n",
        "\n",
        "visited = [0 for _ in range(v)]\n",
        "start = int(input(\"Enter start node (index): \"))\n",
        "sol = int(input(\"Enter solution node (index): \"))\n",
        "\n",
        "print(f\"DFS sequence from {start} to {sol} is: \")\n",
        "if not dfs(start-1, sol-1): print(\"\\nSolution not found.\")\n",
        "#else: print(sol, end=\" \")"
      ],
      "metadata": {
        "colab": {
          "base_uri": "https://localhost:8080/"
        },
        "id": "EFvKElXH5ifC",
        "outputId": "2fd4e03e-c181-42b5-9f13-8d70cdaf69eb"
      },
      "execution_count": null,
      "outputs": [
        {
          "output_type": "stream",
          "name": "stdout",
          "text": [
            "Enter the number of vertices: 12\n",
            "Enter the edges\n",
            "1 2\n",
            "1 7\n",
            "1 8\n",
            "2 3\n",
            "2 6\n",
            "3 4\n",
            "3 5\n",
            "8 9\n",
            "8 12\n",
            "9 10\n",
            "9 11\n",
            "Enter start node (index): 1\n",
            "Enter solution node (index): 7\n",
            "DFS sequence from 1 to 7 is: \n",
            "1 2 3 4 5 6 7 "
          ]
        }
      ]
    },
    {
      "cell_type": "markdown",
      "source": [
        "### Program 3\n",
        "Write a Python program to implement 8 puzzle problem. The initial state and goal state is given below."
      ],
      "metadata": {
        "id": "Wbuizjlc_-G5"
      }
    },
    {
      "cell_type": "code",
      "source": [
        "def is_goal(board, goal_state):\n",
        "    return board == goal_state\n",
        "\n",
        "def find_empty_tile(board):\n",
        "    for i in range(3):\n",
        "        for j in range(3):\n",
        "            if board[i][j] == 0:\n",
        "                return (i, j)\n",
        "\n",
        "def get_neighbors(board):\n",
        "    neighbors = []\n",
        "    x, y = find_empty_tile(board)\n",
        "    possible_moves = [(x - 1, y),  (x + 1, y),  (x, y - 1),  (x, y + 1)]\n",
        "    for move in possible_moves:\n",
        "        new_x, new_y = move\n",
        "        if 0 <= new_x < 3 and 0 <= new_y < 3:\n",
        "            new_board = [row[:] for row in board]\n",
        "            new_board[x][y], new_board[new_x][new_y] = new_board[new_x][new_y], new_board[x][y]\n",
        "            neighbors.append(new_board)\n",
        "    return neighbors\n",
        "\n",
        "def dfs(start_board, goal_state):\n",
        "    stack = [(start_board, [])]\n",
        "    visited = set()\n",
        "\n",
        "    while stack:\n",
        "        current_board, path = stack.pop()\n",
        "        if is_goal(current_board, goal_state):\n",
        "            return path\n",
        "        board_tuple = tuple(map(tuple, current_board))\n",
        "        if board_tuple in visited:\n",
        "            continue\n",
        "        visited.add(board_tuple)\n",
        "        for neighbor_board in get_neighbors(current_board):\n",
        "            neighbor_tuple = tuple(map(tuple, neighbor_board))\n",
        "            if neighbor_tuple not in visited:\n",
        "                stack.append((neighbor_board, path + [neighbor_board]))\n",
        "    return True\n",
        "\n",
        "def print_board(board):\n",
        "    for row in board:\n",
        "        print(' '.join(map(str, row)))\n",
        "    print()\n",
        "\n",
        "# Example usage\n",
        "start_state = [\n",
        "    [2, 8, 3],\n",
        "    [1, 6, 4],\n",
        "    [7, 0, 5]\n",
        "]\n",
        "\n",
        "goal_state = [\n",
        "    [1, 2, 3],\n",
        "    [8, 0, 4],\n",
        "    [7, 6, 5]\n",
        "]\n",
        "\n",
        "solution_path = dfs(start_state, goal_state)\n",
        "#print(solution_path)\n",
        "if solution_path:\n",
        "    print(\"Solution found!\")\n",
        "    print(\"No. of steps=\", len(solution_path))\n",
        "else:\n",
        "    print(\"No solution found.\")"
      ],
      "metadata": {
        "colab": {
          "base_uri": "https://localhost:8080/"
        },
        "id": "tmDSKhvdB9Sc",
        "outputId": "9246eddd-0fd2-4118-fe87-503a227e415d"
      },
      "execution_count": null,
      "outputs": [
        {
          "output_type": "stream",
          "name": "stdout",
          "text": [
            "Solution found!\n",
            "No. of steps= 13441\n"
          ]
        }
      ]
    }
  ]
}