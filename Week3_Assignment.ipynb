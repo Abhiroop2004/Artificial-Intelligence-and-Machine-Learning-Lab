{
  "nbformat": 4,
  "nbformat_minor": 0,
  "metadata": {
    "colab": {
      "provenance": []
    },
    "kernelspec": {
      "name": "python3",
      "display_name": "Python 3"
    },
    "language_info": {
      "name": "python"
    }
  },
  "cells": [
    {
      "cell_type": "markdown",
      "source": [
        "### Water-Jug Problem"
      ],
      "metadata": {
        "id": "ztG6_-fCSbCF"
      }
    },
    {
      "cell_type": "code",
      "execution_count": null,
      "metadata": {
        "colab": {
          "base_uri": "https://localhost:8080/"
        },
        "id": "SNRxRFi3Rxa_",
        "outputId": "6aeeec5d-5a0b-4987-d77d-7a8e88680f1c"
      },
      "outputs": [
        {
          "output_type": "stream",
          "name": "stdout",
          "text": [
            "Enter capacity of jug 1:4\n",
            "Enter capacity of jug 2:3\n",
            "Enter target volume:2\n",
            "(4, 0) -> (1, 3) -> (1, 0) -> (0, 1) -> (4, 1) -> (2, 3) -> 6  steps\n",
            "(3, 0) -> (0, 3) -> (3, 3) -> (2, 4) -> 4 steps\n"
          ]
        }
      ],
      "source": [
        "def GCD(a : int, b : int):\n",
        "    if (b==0):  return a\n",
        "    return GCD(b, a%b)\n",
        "\n",
        "def water_jug(capacity0 : int ,capacity1 : int, target_volume : int):\n",
        "    if (capacity0+capacity1<target_volume): return False\n",
        "    jug0, jug1= capacity0, 0\n",
        "    print((jug0, jug1), end=\" -> \")\n",
        "    steps=1\n",
        "    while (jug0 != target_volume and jug1 != target_volume):\n",
        "        t= min(jug0, capacity1-jug1)\n",
        "        jug1, jug0 = jug1 + t, jug0 -t\n",
        "        steps += 1\n",
        "        print((jug0, jug1), end=\" -> \")\n",
        "        if jug0 == target_volume or jug1 == target_volume: break\n",
        "        if jug0 == 0:\n",
        "            jug0, steps =capacity0, steps+1\n",
        "            print((jug0, jug1), end=\" -> \")\n",
        "        if jug1 == capacity1:\n",
        "            jug1, steps = 0, steps+1\n",
        "            print((jug0, jug1), end=\" -> \")\n",
        "    return steps\n",
        "\n",
        "capacity0=int(input(\"Enter capacity of jug 1: \"))\n",
        "capacity1=int(input(\"Enter capacity of jug 2: \"))\n",
        "target_volume=int(input(\"Enter target volume: \"))\n",
        "if (target_volume % GCD(capacity0, capacity1) == 0):\n",
        "    print(water_jug(capacity0, capacity1, target_volume), \" steps\")\n",
        "    print(water_jug(capacity1, capacity0, target_volume), \"steps\")\n",
        "else:\n",
        "    print(\"Wrong Input, Can't Solve!\")"
      ]
    },
    {
      "cell_type": "markdown",
      "source": [
        "### Tic-Tac-Toe"
      ],
      "metadata": {
        "id": "bektDWHLoiNv"
      }
    },
    {
      "cell_type": "code",
      "source": [
        "import random\n",
        "def tic_tac_toe():\n",
        "  def print_board(board):\n",
        "    for row in board:\n",
        "      print(' | '.join(row))\n",
        "      print('-' * 9)\n",
        "  def check_winner(board):\n",
        "    for row in board:\n",
        "        if row.count(row[0]) == len(row) and row[0] != ' ':\n",
        "            return row[0]\n",
        "    for col in range(len(board)):\n",
        "        if board[0][col] == board[1][col] == board[2][col] and board[0][col] != ' ':\n",
        "            return board[0][col]\n",
        "    if (board[0][0] == board[1][1] == board[2][2] and board[0][0] != ' ') or \\\n",
        "       (board[0][2] == board[1][1] == board[2][0] and board[0][2] != ' '):\n",
        "        return board[1][1]\n",
        "  board = [[' ' for _ in range(3)] for _ in range(3)]\n",
        "  players = ['X', 'O']\n",
        "  current_player = random.choice(players)\n",
        "  while True:\n",
        "    if current_player=='O':\n",
        "      print(f\"Computer's turn:\")\n",
        "      while(True):\n",
        "        row, col= random.randint(0,2), random.randint(0,2)\n",
        "        if board[row][col] == ' ':\n",
        "          board[row][col] = current_player\n",
        "          break\n",
        "      print_board(board)\n",
        "    else:\n",
        "      print(f\"Player {current_player}'s turn:\")\n",
        "      while(True):\n",
        "        row = int(input(\"Enter row: \"))-1\n",
        "        col = int(input(\"Enter column: \"))-1\n",
        "        if board[row][col] == ' ':\n",
        "          board[row][col] = current_player\n",
        "          print_board(board)\n",
        "          break\n",
        "        else:\n",
        "          print(\"Invalid move. Try again.\")\n",
        "    if all(board[i][j] != ' ' for i in range(3) for j in range(3)):\n",
        "      print(\"It's a tie!\")\n",
        "      break\n",
        "    winner = check_winner(board)\n",
        "    if winner=='O':\n",
        "      print(\"Computer wins!\")\n",
        "      break\n",
        "    elif winner:\n",
        "      print(\"You win!\")\n",
        "      break\n",
        "    current_player = 'O' if current_player == 'X' else 'X'\n",
        "\n",
        "tic_tac_toe()"
      ],
      "metadata": {
        "colab": {
          "base_uri": "https://localhost:8080/"
        },
        "id": "nT5j6zX7y9V8",
        "outputId": "cf6e42dc-2c8f-4da0-817f-16061fac16db"
      },
      "execution_count": 6,
      "outputs": [
        {
          "output_type": "stream",
          "name": "stdout",
          "text": [
            "Player X's turn:\n",
            "Enter row: 2\n",
            "Enter column: 2\n",
            "  |   |  \n",
            "---------\n",
            "  | X |  \n",
            "---------\n",
            "  |   |  \n",
            "---------\n",
            "Computer's turn:\n",
            "  |   |  \n",
            "---------\n",
            "  | X | O\n",
            "---------\n",
            "  |   |  \n",
            "---------\n",
            "Player X's turn:\n",
            "Enter row: 1\n",
            "Enter column: 1\n",
            "X |   |  \n",
            "---------\n",
            "  | X | O\n",
            "---------\n",
            "  |   |  \n",
            "---------\n",
            "Computer's turn:\n",
            "X |   |  \n",
            "---------\n",
            "O | X | O\n",
            "---------\n",
            "  |   |  \n",
            "---------\n",
            "Player X's turn:\n",
            "Enter row: 3\n",
            "Enter column: 3\n",
            "X |   |  \n",
            "---------\n",
            "O | X | O\n",
            "---------\n",
            "  |   | X\n",
            "---------\n",
            "You win!\n"
          ]
        }
      ]
    }
  ]
}